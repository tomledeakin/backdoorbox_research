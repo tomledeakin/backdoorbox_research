{
 "cells": [
  {
   "cell_type": "code",
   "execution_count": 2,
   "id": "09aad96b-b178-486a-8a73-2b75ce6ed8ff",
   "metadata": {},
   "outputs": [],
   "source": [
    "root = 'C:/Users/Admin/Downloads/BackdoorBox Research'"
   ]
  },
  {
   "cell_type": "code",
   "execution_count": null,
   "id": "d3f39bbf-59a5-41c5-baf9-8379722bfa4a",
   "metadata": {},
   "outputs": [],
   "source": []
  }
 ],
 "metadata": {
  "kernelspec": {
   "display_name": "Python 3 (ipykernel)",
   "language": "python",
   "name": "python3"
  },
  "language_info": {
   "codemirror_mode": {
    "name": "ipython",
    "version": 3
   },
   "file_extension": ".py",
   "mimetype": "text/x-python",
   "name": "python",
   "nbconvert_exporter": "python",
   "pygments_lexer": "ipython3",
   "version": "3.11.7"
  }
 },
 "nbformat": 4,
 "nbformat_minor": 5
}
